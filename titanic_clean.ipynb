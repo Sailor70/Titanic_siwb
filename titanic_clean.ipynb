{
  "cells": [
    {
      "cell_type": "markdown",
      "source": [
        "Na początek ładuje rmagic aby móc korzystać z R w colab"
      ],
      "metadata": {
        "id": "0xx0lH3gsiZ_"
      }
    },
    {
      "cell_type": "code",
      "execution_count": null,
      "metadata": {
        "id": "B9IqXMjfOBLI",
        "colab": {
          "base_uri": "https://localhost:8080/"
        },
        "outputId": "405b5d0d-f9e3-4584-e0dd-93492e0b7870"
      },
      "outputs": [
        {
          "output_type": "stream",
          "name": "stdout",
          "text": [
            "The rpy2.ipython extension is already loaded. To reload it, use:\n",
            "  %reload_ext rpy2.ipython\n"
          ]
        }
      ],
      "source": [
        "%load_ext rpy2.ipython"
      ]
    },
    {
      "cell_type": "markdown",
      "source": [
        "Wczytanie zbioru danych i wyświetlenie jego właściwości. Dowiaduje się jakie są atrybuty, ile jest obiektów, jakie są typy atrybutów oraz jaki jest atrybut decyzyjny."
      ],
      "metadata": {
        "id": "Ygpni_2vtDwo"
      }
    },
    {
      "cell_type": "code",
      "execution_count": null,
      "metadata": {
        "colab": {
          "base_uri": "https://localhost:8080/"
        },
        "id": "COTm0tRDS-LS",
        "outputId": "9f3ec474-87cb-4fba-8022-ba5726296e49"
      },
      "outputs": [
        {
          "output_type": "stream",
          "name": "stdout",
          "text": [
            "  PassengerId        Survived          Pclass          Name          \n",
            " Min.   :   1.0   Min.   :0.0000   Min.   :1.000   Length:892        \n",
            " 1st Qu.: 223.8   1st Qu.:0.0000   1st Qu.:2.000   Class :character  \n",
            " Median : 444.5   Median :0.0000   Median :3.000   Mode  :character  \n",
            " Mean   : 445.8   Mean   :0.3868   Mean   :2.307                     \n",
            " 3rd Qu.: 668.2   3rd Qu.:1.0000   3rd Qu.:3.000                     \n",
            " Max.   :1000.0   Max.   :1.0000   Max.   :3.000                     \n",
            "     Sex                Age                SibSp            Parch       \n",
            " Length:892         Length:892         Min.   :0.0000   Min.   :0.0000  \n",
            " Class :character   Class :character   1st Qu.:0.0000   1st Qu.:0.0000  \n",
            " Mode  :character   Mode  :character   Median :0.0000   Median :0.0000  \n",
            "                                       Mean   :0.5258   Mean   :0.3711  \n",
            "                                       3rd Qu.:1.0000   3rd Qu.:0.0000  \n",
            "                                       Max.   :8.0000   Max.   :5.0000  \n",
            "    Ticket              Fare              Cabin             Embarked        \n",
            " Length:892         Length:892         Length:892         Length:892        \n",
            " Class :character   Class :character   Class :character   Class :character  \n",
            " Mode  :character   Mode  :character   Mode  :character   Mode  :character  \n",
            "                                                                            \n",
            "                                                                            \n",
            "                                                                            \n",
            "     ship          \n",
            " Length:892        \n",
            " Class :character  \n",
            " Mode  :character  \n",
            "                   \n",
            "                   \n",
            "                   \n"
          ]
        }
      ],
      "source": [
        "%%R\n",
        "getwd()\n",
        "data <- read.table(file = '/content/drive/MyDrive/us/SIwB/CzyszczenieDanych/TitanicMess.tsv', sep = '\\t', header = TRUE, na.strings=c(\"\",\"NA\")) # wczytanie pliku\n",
        "head(data)\n",
        "summary(data) # jakie są w zbiorze atrybuty, ile jest obiektów, typy atrybutów, atrybut decyzyjny"
      ]
    },
    {
      "cell_type": "markdown",
      "source": [
        "Pobranie nazw kolumn i wyświetlenie liczby wartości brakujących w poszczególnych kolumnach:"
      ],
      "metadata": {
        "id": "NFl4YKrTdBUZ"
      }
    },
    {
      "cell_type": "code",
      "source": [
        "%%R\n",
        "library(tidyverse)\n",
        "columns <- colnames(data)\n",
        "glimpse(data)\n",
        "print(columns)\n",
        "for(i in columns) {\n",
        "    cat(\"Liczba brakujących wartości w atrybucie\", i, \":\", sum(is.na(data[[i]])), \"\\n\",sep=\" \")\n",
        "}"
      ],
      "metadata": {
        "colab": {
          "base_uri": "https://localhost:8080/"
        },
        "id": "792d8OUedJ9g",
        "outputId": "50a32af2-f435-4a17-dedf-3c3fb7c95869"
      },
      "execution_count": null,
      "outputs": [
        {
          "output_type": "stream",
          "name": "stdout",
          "text": [
            "Rows: 892\n",
            "Columns: 13\n",
            "$ PassengerId <int> 1, 2, 3, 4, 5, 6, 7, 8, 9, 10, 11, 12, 13, 11, 15, 16, 17,…\n",
            "$ Survived    <int> 0, 1, 1, 1, 0, 0, 0, 0, 1, 1, 1, 1, 0, 1, 0, 1, 0, 1, 0, 1…\n",
            "$ Pclass      <int> 3, 1, 3, 1, 3, 3, 1, 3, 3, 2, 3, 1, 3, 3, 3, 2, 3, 2, 3, 3…\n",
            "$ Name        <chr> \"Braund, Mr. Owen Harris\", \"Cumings, Mrs. John Bradley (Fl…\n",
            "$ Sex         <chr> \"male\", \"female\", \"female\", \"female\", \"male\", \"male\", \"mal…\n",
            "$ Age         <chr> \"22\", \"38\", \"26\", \"35\", \"35\", NA, \"54\", \"2\", \"27\", \"14\", \"…\n",
            "$ SibSp       <int> 1, 1, 0, 1, 0, 0, 0, 3, 0, 1, 1, 0, 0, 1, 0, 0, 4, 0, 1, 0…\n",
            "$ Parch       <int> 0, 0, 0, 0, 0, 0, 0, 1, 2, 0, 1, 0, 0, 1, 0, 0, 1, 0, 0, 0…\n",
            "$ Ticket      <chr> \"A/5 21171\", \"PC 17599\", \"STON/O2. 3101282\", \"113803\", \"37…\n",
            "$ Fare        <chr> \"7,25\", \"71,2833\", \"7,925\", \"53,1\", \"8,05\", \"8,4583\", \"51,…\n",
            "$ Cabin       <chr> NA, \"C85\", NA, \"C123\", NA, NA, \"E46\", NA, NA, NA, \"G6\", \"C…\n",
            "$ Embarked    <chr> \"S\", \"C\", \"S\", \"S\", \"S\", \"Q\", \"S\", \"S\", \"S\", \"C\", \"S\", \"S\"…\n",
            "$ ship        <chr> \"Titanic\", \"Titanic\", \"Titanic\", \"Titanic\", \"Titanic\", \"Ti…\n",
            " [1] \"PassengerId\" \"Survived\"    \"Pclass\"      \"Name\"        \"Sex\"        \n",
            " [6] \"Age\"         \"SibSp\"       \"Parch\"       \"Ticket\"      \"Fare\"       \n",
            "[11] \"Cabin\"       \"Embarked\"    \"ship\"       \n",
            "Liczba brakujących wartości w atrybucie PassengerId : 0 \n",
            "Liczba brakujących wartości w atrybucie Survived : 0 \n",
            "Liczba brakujących wartości w atrybucie Pclass : 0 \n",
            "Liczba brakujących wartości w atrybucie Name : 0 \n",
            "Liczba brakujących wartości w atrybucie Sex : 0 \n",
            "Liczba brakujących wartości w atrybucie Age : 173 \n",
            "Liczba brakujących wartości w atrybucie SibSp : 0 \n",
            "Liczba brakujących wartości w atrybucie Parch : 0 \n",
            "Liczba brakujących wartości w atrybucie Ticket : 0 \n",
            "Liczba brakujących wartości w atrybucie Fare : 0 \n",
            "Liczba brakujących wartości w atrybucie Cabin : 685 \n",
            "Liczba brakujących wartości w atrybucie Embarked : 2 \n",
            "Liczba brakujących wartości w atrybucie ship : 0 \n"
          ]
        }
      ]
    },
    {
      "cell_type": "markdown",
      "source": [
        "Teraz w celu zwizualizowania zbioru wyświetlam wykresy dla poszczególnych atrybutów. Z wykresów odczytać można że pewne id powtarzają się, atrybuty \"Sex\" oraz \"Age\" oraz \"Embarked\" mają nieprawidłowe wartości. Kolumna \"Ship\" jest nadmiarowa, gdyż zawiera tylko jedną wartość."
      ],
      "metadata": {
        "id": "LjT5MWmctxvR"
      }
    },
    {
      "cell_type": "code",
      "source": [
        "%%R\n",
        "for(i in columns) {\n",
        "    barplot(table(data[[i]]), main = i)\n",
        "}"
      ],
      "metadata": {
        "id": "cJrNCWKrt9g6"
      },
      "execution_count": null,
      "outputs": []
    },
    {
      "cell_type": "markdown",
      "source": [
        "Z wykresów wyniknęły następujące błędy\n",
        "\n",
        "\n",
        "*   elementy o powtarzającym się ID - należy usunąć powielone\n",
        "*   Atrybut 'Sex' posiada nieprawidłowe wartości\n",
        "*   Atrybut 'Age' posiada nieprawidłowe wartości\n",
        "*   Atrybut 'Fare' posiada nieprawidłowe wartości\n",
        "*   Atrybut 'Embarked' posiada nieprawidłowe wartości\n",
        "*   Atrybut 'Ship' jest nadmiarowy - kolumnę można usunąć gdyż zawiera tylko jedną wartość\n",
        "\n",
        "Teraz należy odszukać niepoprawne wartości dla atrybutów Age oraz Fare. W tym celu przeszukuję zbiór w pętli: "
      ],
      "metadata": {
        "id": "MeWWm_cMuoTF"
      }
    },
    {
      "cell_type": "code",
      "source": [
        "%%R\n",
        "dat1 <- data\n",
        "wrong_age_ids <- c()\n",
        "wrong_fare_ids <- c()\n",
        "for(i in 1:nrow(dat1))  {\n",
        "  if(!is.na(dat1[i, 6])) { # pomijam sprawdzanie dla wartości brakujących\n",
        "    age <- as.double(gsub(\",\",\".\",dat1[i, 6])) # konwersja na liczbę przy czym trzeba zamienić przecinek na kropkę\n",
        "\t  if(age > 120 | age < 0) { # szukam wartości błędnych, \n",
        "\t    wrong_age_ids <- c(wrong_age_ids, dat1[i, 1]) # zbieram id-ki z błędnymi wartościami wieku\n",
        "\t\t \tcat(\"Nieprawidłowa wartość Age: \", age,\"\\n\",sep=\" \")\n",
        "\t  }   \n",
        "  }\n",
        "  if(!is.na(dat1[i, 10])) { # pomijam sprawdzanie dla wartości brakujących\n",
        "    fare <- as.double(gsub(\",\",\".\",dat1[i, 10]))\n",
        "\t  if(is.na(fare) | fare < 0) { # szukam wartości błędnych - nie double i ujemne\n",
        "\t    wrong_fare_ids <- c(wrong_fare_ids, dat1[i, 1]) # zbieram id-ki z błędnymi wartościami fare\n",
        "\t\t  cat(\"Nieprawidłowa wartość Fare: \", dat1[i, 10],\"\\n\",sep=\" \")\n",
        "\t  }   \n",
        "  }\n",
        "}\n",
        "cat(\"wiersze o błędnym Age do usunięcia: \", wrong_age_ids,\"\\n\",sep=\" \")\n",
        "cat(\"wiersze o błędnym Fare do usunięcia: \", wrong_fare_ids,\"\\n\",sep=\" \")\n"
      ],
      "metadata": {
        "colab": {
          "base_uri": "https://localhost:8080/"
        },
        "id": "_dDaQGhevfc7",
        "outputId": "686fca76-07a9-4f72-a5a7-496c14794030"
      },
      "execution_count": null,
      "outputs": [
        {
          "output_type": "stream",
          "name": "stdout",
          "text": [
            "Nieprawidłowa wartość Age:  4435 \n",
            "Nieprawidłowa wartość Fare:  -90 \n",
            "Nieprawidłowa wartość Fare:  15,9a \n",
            "Nieprawidłowa wartość Age:  -3 \n",
            "Nieprawidłowa wartość Age:  -12 \n",
            "Nieprawidłowa wartość Age:  250 \n",
            "wiersze o błędnym Age do usunięcia:  224 508 523 667 \n",
            "wiersze o błędnym Fare do usunięcia:  246 490 \n"
          ]
        }
      ]
    },
    {
      "cell_type": "markdown",
      "source": [
        "Teraz oczyszczam zbior danych z wartości nieprawidłowych"
      ],
      "metadata": {
        "id": "hlDTBxRExGcM"
      }
    },
    {
      "cell_type": "code",
      "source": [
        "%%R\n",
        "dat2 <- data\n",
        "dat2 <- dat2[!duplicated(dat2$PassengerId), ] # usunięcie zduplikowanych wierszy na podstawie ID\n",
        "dat2 <- dat2[dat2$Sex %in% c(\"male\", \"female\"),] # usunięcie wierszy z błędem w płci.\n",
        "dat2 <- dat2[dat2$Embarked %in% c(\"S\", \"Q\", \"C\") | is.na(dat2$Embarked),] # usunięcie wierszy z błędem w embarked.\n",
        "dat2 <- dat2[!(dat2$PassengerId %in% wrong_age_ids),] # usunięcie wierszy z błednym wiekiem\n",
        "dat2 <- dat2[!(dat2$PassengerId %in% wrong_fare_ids),] # usunięcie wierszy z fare innym niż double i ujemne\n",
        "dat2 <- dat2[,names(dat2) != \"ship\"] # usunięcie kolumny ship - bo zawiera tylko jedną wartość - jest nadmiarowa\n",
        "glimpse(dat2)"
      ],
      "metadata": {
        "id": "e5vetyx_xLeJ",
        "colab": {
          "base_uri": "https://localhost:8080/"
        },
        "outputId": "bb0521ee-4af6-4014-ea96-785ac96ab44b"
      },
      "execution_count": null,
      "outputs": [
        {
          "output_type": "stream",
          "name": "stdout",
          "text": [
            "Rows: 875\n",
            "Columns: 12\n",
            "$ PassengerId <int> 1, 2, 3, 4, 5, 6, 7, 8, 9, 10, 11, 12, 13, 15, 16, 17, 19,…\n",
            "$ Survived    <int> 0, 1, 1, 1, 0, 0, 0, 0, 1, 1, 1, 1, 0, 0, 1, 0, 0, 1, 0, 1…\n",
            "$ Pclass      <int> 3, 1, 3, 1, 3, 3, 1, 3, 3, 2, 3, 1, 3, 3, 2, 3, 3, 3, 2, 3…\n",
            "$ Name        <chr> \"Braund, Mr. Owen Harris\", \"Cumings, Mrs. John Bradley (Fl…\n",
            "$ Sex         <chr> \"male\", \"female\", \"female\", \"female\", \"male\", \"male\", \"mal…\n",
            "$ Age         <chr> \"22\", \"38\", \"26\", \"35\", \"35\", NA, \"54\", \"2\", \"27\", \"14\", \"…\n",
            "$ SibSp       <int> 1, 1, 0, 1, 0, 0, 0, 3, 0, 1, 1, 0, 0, 0, 0, 4, 1, 0, 0, 0…\n",
            "$ Parch       <int> 0, 0, 0, 0, 0, 0, 0, 1, 2, 0, 1, 0, 0, 0, 0, 1, 0, 0, 0, 0…\n",
            "$ Ticket      <chr> \"A/5 21171\", \"PC 17599\", \"STON/O2. 3101282\", \"113803\", \"37…\n",
            "$ Fare        <chr> \"7,25\", \"71,2833\", \"7,925\", \"53,1\", \"8,05\", \"8,4583\", \"51,…\n",
            "$ Cabin       <chr> NA, \"C85\", NA, \"C123\", NA, NA, \"E46\", NA, NA, NA, \"G6\", \"C…\n",
            "$ Embarked    <chr> \"S\", \"C\", \"S\", \"S\", \"S\", \"Q\", \"S\", \"S\", \"S\", \"C\", \"S\", \"S\"…\n"
          ]
        }
      ]
    },
    {
      "cell_type": "markdown",
      "source": [
        "Następnie zastępuje brakujące wartości (NA) atrybutów Age oraz Embarked. Ponadto zmieniam format Age oraz Fare na double gdyż są to liczby zmiennoprzecinkowe. Atrybut Cabin posiada wiele brakujących wartości, ale nie da się ich zastąpić a usunięcie tych danych spowodowało by znaczną redukcje rozmiaru zbioru.\n",
        "\n"
      ],
      "metadata": {
        "id": "PwMjC4SLnNql"
      }
    },
    {
      "cell_type": "code",
      "source": [
        "\n",
        "%%R\n",
        "dat3 <- dat2\n",
        "print(dat3[is.na(dat3$Embarked),])\n",
        "dat3$Embarked[which(is.na(dat3$Embarked))] <-\"s\" # zastąpienie Na przez \"s\", bo najczęściej występuje\n",
        "print(dat3[is.na(dat3$Embarked),])\n",
        "dat3$Age[which(is.na(dat3$Age))] <- mean(as.double(gsub(\",\",\".\",dat3$Age)), na.rm=TRUE) # zastąpienie Age przez mean z całego zbioru\n",
        "dat3$Age <- sapply(dat3$Age, as.double) # zmiana formatu na double\n",
        "dat3$Fare <- sapply(gsub(\",\",\".\",dat3$Fare), as.double) # zmiana formatu na double\n",
        "write.table(dat3, file = '/content/drive/MyDrive/us/SIwB/CzyszczenieDanych/TitanicCleaned.tsv', quote=FALSE, sep='\\t')\n",
        "# write.csv(dat3, file = '/content/drive/MyDrive/us/SIwB/CzyszczenieDanych/TitanicCleaned.csv')\n",
        "glimpse(dat3)"
      ],
      "metadata": {
        "colab": {
          "base_uri": "https://localhost:8080/"
        },
        "id": "vIW6AkrknUt5",
        "outputId": "3ce02b5b-aa85-446e-f292-2130ddb6f893"
      },
      "execution_count": null,
      "outputs": [
        {
          "output_type": "stream",
          "name": "stdout",
          "text": [
            "    PassengerId Survived Pclass                                      Name\n",
            "62           62        1      1                       Icard, Miss. Amelie\n",
            "830         830        1      1 Stone, Mrs. George Nelson (Martha Evelyn)\n",
            "       Sex Age SibSp Parch Ticket Fare Cabin Embarked\n",
            "62  female  38     0     0 113572   80   B28     <NA>\n",
            "830 female  62     0     0 113572   80   B28     <NA>\n",
            " [1] PassengerId Survived    Pclass      Name        Sex         Age        \n",
            " [7] SibSp       Parch       Ticket      Fare        Cabin       Embarked   \n",
            "<0 rows> (or 0-length row.names)\n",
            "Rows: 875\n",
            "Columns: 12\n",
            "$ PassengerId <int> 1, 2, 3, 4, 5, 6, 7, 8, 9, 10, 11, 12, 13, 15, 16, 17, 19,…\n",
            "$ Survived    <int> 0, 1, 1, 1, 0, 0, 0, 0, 1, 1, 1, 1, 0, 0, 1, 0, 0, 1, 0, 1…\n",
            "$ Pclass      <int> 3, 1, 3, 1, 3, 3, 1, 3, 3, 2, 3, 1, 3, 3, 2, 3, 3, 3, 2, 3…\n",
            "$ Name        <chr> \"Braund, Mr. Owen Harris\", \"Cumings, Mrs. John Bradley (Fl…\n",
            "$ Sex         <chr> \"male\", \"female\", \"female\", \"female\", \"male\", \"male\", \"mal…\n",
            "$ Age         <dbl> 22.00000, 38.00000, 26.00000, 35.00000, 35.00000, 29.62705…\n",
            "$ SibSp       <int> 1, 1, 0, 1, 0, 0, 0, 3, 0, 1, 1, 0, 0, 0, 0, 4, 1, 0, 0, 0…\n",
            "$ Parch       <int> 0, 0, 0, 0, 0, 0, 0, 1, 2, 0, 1, 0, 0, 0, 0, 1, 0, 0, 0, 0…\n",
            "$ Ticket      <chr> \"A/5 21171\", \"PC 17599\", \"STON/O2. 3101282\", \"113803\", \"37…\n",
            "$ Fare        <dbl> 7.2500, 71.2833, 7.9250, 53.1000, 8.0500, 8.4583, 51.8625,…\n",
            "$ Cabin       <chr> NA, \"C85\", NA, \"C123\", NA, NA, \"E46\", NA, NA, NA, \"G6\", \"C…\n",
            "$ Embarked    <chr> \"S\", \"C\", \"S\", \"S\", \"S\", \"Q\", \"S\", \"S\", \"S\", \"C\", \"S\", \"S\"…\n"
          ]
        }
      ]
    }
  ],
  "metadata": {
    "colab": {
      "name": "titanic_clean.ipynb",
      "provenance": [],
      "collapsed_sections": []
    },
    "kernelspec": {
      "display_name": "Python 3",
      "name": "python3"
    },
    "language_info": {
      "name": "python"
    }
  },
  "nbformat": 4,
  "nbformat_minor": 0
}
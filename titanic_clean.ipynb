{
  "cells": [
    {
      "cell_type": "markdown",
      "source": [
        "Na początek ładuje rmagic aby móc korzystać z R w colab. Klonuje również repozytorium w celu uzyskania dostępu do pliku TitanicMess.tsv"
      ],
      "metadata": {
        "id": "0xx0lH3gsiZ_"
      }
    },
    {
      "cell_type": "code",
      "execution_count": 2,
      "metadata": {
        "id": "B9IqXMjfOBLI",
        "colab": {
          "base_uri": "https://localhost:8080/"
        },
        "outputId": "161ff7c8-97a1-412d-a705-c2ed4d1589ec"
      },
      "outputs": [
        {
          "output_type": "stream",
          "name": "stdout",
          "text": [
            "Cloning into 'Titanic_siwb'...\n",
            "remote: Enumerating objects: 15, done.\u001b[K\n",
            "remote: Counting objects: 100% (15/15), done.\u001b[K\n",
            "remote: Compressing objects: 100% (14/14), done.\u001b[K\n",
            "remote: Total 15 (delta 4), reused 0 (delta 0), pack-reused 0\u001b[K\n",
            "Unpacking objects: 100% (15/15), done.\n"
          ]
        }
      ],
      "source": [
        "%load_ext rpy2.ipython\n",
        "!rm -rf /content/Titanic_siwb\n",
        "!git clone https://github.com/Sailor70/Titanic_siwb.git"
      ]
    },
    {
      "cell_type": "markdown",
      "source": [
        "Wczytanie zbioru danych, wyświetlenie jego początku i końca oraz zbadanie jego właściwości. Dowiaduje się jakie są atrybuty, ile jest obiektów, jakie są typy atrybutów oraz jaki jest atrybut decyzyjny."
      ],
      "metadata": {
        "id": "Ygpni_2vtDwo"
      }
    },
    {
      "cell_type": "code",
      "execution_count": 3,
      "metadata": {
        "colab": {
          "base_uri": "https://localhost:8080/"
        },
        "id": "COTm0tRDS-LS",
        "outputId": "681f7ec7-4a01-48f7-96f2-64c44ab032ca"
      },
      "outputs": [
        {
          "output_type": "stream",
          "name": "stdout",
          "text": [
            "  PassengerId Survived Pclass\n",
            "1           1        0      3\n",
            "2           2        1      1\n",
            "3           3        1      3\n",
            "4           4        1      1\n",
            "5           5        0      3\n",
            "6           6        0      3\n",
            "                                                 Name    Sex  Age SibSp Parch\n",
            "1                             Braund, Mr. Owen Harris   male   22     1     0\n",
            "2 Cumings, Mrs. John Bradley (Florence Briggs Thayer) female   38     1     0\n",
            "3                              Heikkinen, Miss. Laina female   26     0     0\n",
            "4        Futrelle, Mrs. Jacques Heath (Lily May Peel) female   35     1     0\n",
            "5                            Allen, Mr. William Henry   male   35     0     0\n",
            "6                                    Moran, Mr. James   male <NA>     0     0\n",
            "            Ticket    Fare Cabin Embarked    ship\n",
            "1        A/5 21171    7,25  <NA>        S Titanic\n",
            "2         PC 17599 71,2833   C85        C Titanic\n",
            "3 STON/O2. 3101282   7,925  <NA>        S Titanic\n",
            "4           113803    53,1  C123        S Titanic\n",
            "5           373450    8,05  <NA>        S Titanic\n",
            "6           330877  8,4583  <NA>        Q Titanic\n",
            "    PassengerId Survived Pclass                                     Name    Sex\n",
            "887         887        0      2                    Montvila, Rev. Juozas   male\n",
            "888         888        1      1             Graham, Miss. Margaret Edith female\n",
            "889         889        0      3 Johnston, Miss. Catherine Helen \"Carrie\" female\n",
            "890         890        1      1                    Behr, Mr. Karl Howell   male\n",
            "891         891        0      3                      Dooley, Mr. Patrick   male\n",
            "892        1000        1      1              Mr. Frederick Maxfield Hoyt   male\n",
            "     Age SibSp Parch     Ticket  Fare Cabin Embarked    ship\n",
            "887   27     0     0     211536    13  <NA>        S Titanic\n",
            "888   19     0     0     112053    30   B42        S Titanic\n",
            "889 <NA>     1     2 W./C. 6607 23,45  <NA>        S Titanic\n",
            "890   26     0     0     111369    30  C148        C Titanic\n",
            "891   32     0     0     370376  7,75  <NA>        Q Titanic\n",
            "892   38     1     0      19943    90   C93        S Titanic\n",
            "  PassengerId        Survived          Pclass          Name          \n",
            " Min.   :   1.0   Min.   :0.0000   Min.   :1.000   Length:892        \n",
            " 1st Qu.: 223.8   1st Qu.:0.0000   1st Qu.:2.000   Class :character  \n",
            " Median : 444.5   Median :0.0000   Median :3.000   Mode  :character  \n",
            " Mean   : 445.8   Mean   :0.3868   Mean   :2.307                     \n",
            " 3rd Qu.: 668.2   3rd Qu.:1.0000   3rd Qu.:3.000                     \n",
            " Max.   :1000.0   Max.   :1.0000   Max.   :3.000                     \n",
            "     Sex                Age                SibSp            Parch       \n",
            " Length:892         Length:892         Min.   :0.0000   Min.   :0.0000  \n",
            " Class :character   Class :character   1st Qu.:0.0000   1st Qu.:0.0000  \n",
            " Mode  :character   Mode  :character   Median :0.0000   Median :0.0000  \n",
            "                                       Mean   :0.5258   Mean   :0.3711  \n",
            "                                       3rd Qu.:1.0000   3rd Qu.:0.0000  \n",
            "                                       Max.   :8.0000   Max.   :5.0000  \n",
            "    Ticket              Fare              Cabin             Embarked        \n",
            " Length:892         Length:892         Length:892         Length:892        \n",
            " Class :character   Class :character   Class :character   Class :character  \n",
            " Mode  :character   Mode  :character   Mode  :character   Mode  :character  \n",
            "                                                                            \n",
            "                                                                            \n",
            "                                                                            \n",
            "     ship          \n",
            " Length:892        \n",
            " Class :character  \n",
            " Mode  :character  \n",
            "                   \n",
            "                   \n",
            "                   \n",
            "PassengerId    Survived      Pclass        Name         Sex         Age \n",
            "  \"integer\"   \"integer\"   \"integer\" \"character\" \"character\" \"character\" \n",
            "      SibSp       Parch      Ticket        Fare       Cabin    Embarked \n",
            "  \"integer\"   \"integer\" \"character\" \"character\" \"character\" \"character\" \n",
            "       ship \n",
            "\"character\" \n"
          ]
        }
      ],
      "source": [
        "%%R\n",
        "data <- read.table(file = '/content/Titanic_siwb/TitanicMess.tsv', sep = '\\t', header = TRUE, na.strings=c(\"\",\"NA\")) # wczytanie pliku\n",
        "print(head(data))\n",
        "print(tail(data))\n",
        "print(summary(data)) # jakie są w zbiorze atrybuty, ile jest obiektów, typy atrybutów, atrybut decyzyjny\n",
        "print(sapply(data, class)) # typy atrybutów"
      ]
    },
    {
      "cell_type": "markdown",
      "source": [
        "Pobranie nazw kolumn i wyświetlenie liczby wartości brakujących w poszczególnych kolumnach:"
      ],
      "metadata": {
        "id": "NFl4YKrTdBUZ"
      }
    },
    {
      "cell_type": "code",
      "source": [
        "%%R\n",
        "library(tidyverse)\n",
        "columns <- colnames(data)\n",
        "glimpse(data)\n",
        "print(columns)\n",
        "for(i in columns) {\n",
        "    cat(\"Liczba brakujących wartości w atrybucie\", i, \":\", sum(is.na(data[[i]])), \"\\n\",sep=\" \")\n",
        "}"
      ],
      "metadata": {
        "colab": {
          "base_uri": "https://localhost:8080/"
        },
        "id": "792d8OUedJ9g",
        "outputId": "7f37d3ab-68bd-4da8-dabc-541b37631432"
      },
      "execution_count": 4,
      "outputs": [
        {
          "output_type": "stream",
          "name": "stderr",
          "text": [
            "R[write to console]: ── Attaching packages ─────────────────────────────────────── tidyverse 1.3.1 ──\n",
            "\n",
            "R[write to console]: ✔ ggplot2 3.3.5     ✔ purrr   0.3.4\n",
            "✔ tibble  3.1.6     ✔ dplyr   1.0.8\n",
            "✔ tidyr   1.2.0     ✔ stringr 1.4.0\n",
            "✔ readr   2.1.2     ✔ forcats 0.5.1\n",
            "\n",
            "R[write to console]: ── Conflicts ────────────────────────────────────────── tidyverse_conflicts() ──\n",
            "✖ dplyr::filter() masks stats::filter()\n",
            "✖ dplyr::lag()    masks stats::lag()\n",
            "\n"
          ]
        },
        {
          "output_type": "stream",
          "name": "stdout",
          "text": [
            "Rows: 892\n",
            "Columns: 13\n",
            "$ PassengerId <int> 1, 2, 3, 4, 5, 6, 7, 8, 9, 10, 11, 12, 13, 11, 15, 16, 17,…\n",
            "$ Survived    <int> 0, 1, 1, 1, 0, 0, 0, 0, 1, 1, 1, 1, 0, 1, 0, 1, 0, 1, 0, 1…\n",
            "$ Pclass      <int> 3, 1, 3, 1, 3, 3, 1, 3, 3, 2, 3, 1, 3, 3, 3, 2, 3, 2, 3, 3…\n",
            "$ Name        <chr> \"Braund, Mr. Owen Harris\", \"Cumings, Mrs. John Bradley (Fl…\n",
            "$ Sex         <chr> \"male\", \"female\", \"female\", \"female\", \"male\", \"male\", \"mal…\n",
            "$ Age         <chr> \"22\", \"38\", \"26\", \"35\", \"35\", NA, \"54\", \"2\", \"27\", \"14\", \"…\n",
            "$ SibSp       <int> 1, 1, 0, 1, 0, 0, 0, 3, 0, 1, 1, 0, 0, 1, 0, 0, 4, 0, 1, 0…\n",
            "$ Parch       <int> 0, 0, 0, 0, 0, 0, 0, 1, 2, 0, 1, 0, 0, 1, 0, 0, 1, 0, 0, 0…\n",
            "$ Ticket      <chr> \"A/5 21171\", \"PC 17599\", \"STON/O2. 3101282\", \"113803\", \"37…\n",
            "$ Fare        <chr> \"7,25\", \"71,2833\", \"7,925\", \"53,1\", \"8,05\", \"8,4583\", \"51,…\n",
            "$ Cabin       <chr> NA, \"C85\", NA, \"C123\", NA, NA, \"E46\", NA, NA, NA, \"G6\", \"C…\n",
            "$ Embarked    <chr> \"S\", \"C\", \"S\", \"S\", \"S\", \"Q\", \"S\", \"S\", \"S\", \"C\", \"S\", \"S\"…\n",
            "$ ship        <chr> \"Titanic\", \"Titanic\", \"Titanic\", \"Titanic\", \"Titanic\", \"Ti…\n",
            " [1] \"PassengerId\" \"Survived\"    \"Pclass\"      \"Name\"        \"Sex\"        \n",
            " [6] \"Age\"         \"SibSp\"       \"Parch\"       \"Ticket\"      \"Fare\"       \n",
            "[11] \"Cabin\"       \"Embarked\"    \"ship\"       \n",
            "Liczba brakujących wartości w atrybucie PassengerId : 0 \n",
            "Liczba brakujących wartości w atrybucie Survived : 0 \n",
            "Liczba brakujących wartości w atrybucie Pclass : 0 \n",
            "Liczba brakujących wartości w atrybucie Name : 0 \n",
            "Liczba brakujących wartości w atrybucie Sex : 0 \n",
            "Liczba brakujących wartości w atrybucie Age : 173 \n",
            "Liczba brakujących wartości w atrybucie SibSp : 0 \n",
            "Liczba brakujących wartości w atrybucie Parch : 0 \n",
            "Liczba brakujących wartości w atrybucie Ticket : 0 \n",
            "Liczba brakujących wartości w atrybucie Fare : 0 \n",
            "Liczba brakujących wartości w atrybucie Cabin : 685 \n",
            "Liczba brakujących wartości w atrybucie Embarked : 2 \n",
            "Liczba brakujących wartości w atrybucie ship : 0 \n"
          ]
        }
      ]
    },
    {
      "cell_type": "markdown",
      "source": [
        "Teraz w celu zwizualizowania zbioru wyświetlam wykresy dla poszczególnych atrybutów. Z wykresów odczytać można że pewne id powtarzają się, atrybuty \"Sex\" oraz \"Age\" oraz \"Embarked\" mają nieprawidłowe wartości. Kolumna \"Ship\" jest nadmiarowa, gdyż zawiera tylko jedną wartość."
      ],
      "metadata": {
        "id": "LjT5MWmctxvR"
      }
    },
    {
      "cell_type": "code",
      "source": [
        "%%R\n",
        "for(i in columns) {\n",
        "    barplot(table(data[[i]]), main = i)\n",
        "}"
      ],
      "metadata": {
        "id": "cJrNCWKrt9g6",
        "colab": {
          "base_uri": "https://localhost:8080/",
          "height": 1000
        },
        "outputId": "dc946cc7-5b31-4fdb-fabb-ebba6179e11b"
      },
      "execution_count": 5,
      "outputs": [
        {
          "output_type": "display_data",
          "data": {
            "image/png": "[encoded data removed]"
          },
          "metadata": {}
        },
        {
          "output_type": "display_data",
          "data": {
            "image/png": "[encoded data removed]"
          },
          "metadata": {}
        },
        {
          "output_type": "display_data",
          "data": {
            "image/png": "[encoded data removed]"
          },
          "metadata": {}
        },
        {
          "output_type": "display_data",
          "data": {
            "image/png": "[encoded data removed]"
          },
          "metadata": {}
        },
        {
          "output_type": "display_data",
          "data": {
            "image/png": "[encoded data removed]"
          },
          "metadata": {}
        },
        {
          "output_type": "display_data",
          "data": {
            "image/png": "[encoded data removed]"
          },
          "metadata": {}
        },
        {
          "output_type": "display_data",
          "data": {
            "image/png": "[encoded data removed]"
          },
          "metadata": {}
        },
        {
          "output_type": "display_data",
          "data": {
            "image/png": "[encoded data removed]"
          },
          "metadata": {}
        },
        {
          "output_type": "display_data",
          "data": {
            "image/png": "[encoded data removed]"
          },
          "metadata": {}
        },
        {
          "output_type": "display_data",
          "data": {
            "image/png": "[encoded data removed]"
          },
          "metadata": {}
        },
        {
          "output_type": "display_data",
          "data": {
            "image/png": "[encoded data removed]"
          },
          "metadata": {}
        },
        {
          "output_type": "display_data",
          "data": {
            "image/png": "[encoded data removed]"
          },
          "metadata": {}
        },
        {
          "output_type": "display_data",
          "data": {
            "image/png": "[encoded data removed]"
          },
          "metadata": {}
        }
      ]
    },
    {
      "cell_type": "markdown",
      "source": [
        "Z wykresów wyniknęły następujące błędy\n",
        "\n",
        "\n",
        "*   elementy o powtarzającym się ID - należy usunąć powielone\n",
        "*   Atrybut 'Sex' posiada nieprawidłowe wartości\n",
        "*   Atrybut 'Age' posiada nieprawidłowe wartości\n",
        "*   Atrybut 'Fare' posiada nieprawidłowe wartości\n",
        "*   Atrybut 'Embarked' posiada nieprawidłowe wartości\n",
        "*   Atrybut 'Ship' jest nadmiarowy - kolumnę można usunąć gdyż zawiera tylko jedną wartość\n",
        "\n",
        "Teraz należy odszukać niepoprawne wartości dla atrybutów Age oraz Fare. W tym celu przeszukuję zbiór w pętli: "
      ],
      "metadata": {
        "id": "MeWWm_cMuoTF"
      }
    },
    {
      "cell_type": "code",
      "source": [
        "%%R\n",
        "dat1 <- data\n",
        "wrong_age_ids <- c()\n",
        "wrong_fare_ids <- c()\n",
        "for(i in 1:nrow(dat1))  {\n",
        "  if(!is.na(dat1[i, 6])) { # pomijam sprawdzanie dla wartości brakujących\n",
        "    age <- as.double(gsub(\",\",\".\",dat1[i, 6])) # konwersja na liczbę przy czym trzeba zamienić przecinek na kropkę\n",
        "\t  if(age > 120 | age < 0) { # szukam wartości błędnych, \n",
        "\t    wrong_age_ids <- c(wrong_age_ids, dat1[i, 1]) # zbieram id-ki z błędnymi wartościami wieku\n",
        "\t\t \tcat(\"Nieprawidłowa wartość Age: \", age,\"\\n\",sep=\" \")\n",
        "\t  }   \n",
        "  }\n",
        "  if(!is.na(dat1[i, 10])) { # pomijam sprawdzanie dla wartości brakujących\n",
        "    fare <- as.double(gsub(\",\",\".\",dat1[i, 10]))\n",
        "\t  if(is.na(fare) | fare < 0) { # szukam wartości błędnych - nie double i ujemne\n",
        "\t    wrong_fare_ids <- c(wrong_fare_ids, dat1[i, 1]) # zbieram id-ki z błędnymi wartościami fare\n",
        "\t\t  cat(\"Nieprawidłowa wartość Fare: \", dat1[i, 10],\"\\n\",sep=\" \")\n",
        "\t  }   \n",
        "  }\n",
        "}\n",
        "cat(\"wiersze o błędnym Age do usunięcia: \", wrong_age_ids,\"\\n\",sep=\" \")\n",
        "cat(\"wiersze o błędnym Fare do usunięcia: \", wrong_fare_ids,\"\\n\",sep=\" \")\n"
      ],
      "metadata": {
        "colab": {
          "base_uri": "https://localhost:8080/"
        },
        "id": "_dDaQGhevfc7",
        "outputId": "6bc1b495-40bd-475a-c446-230ed0dc018f"
      },
      "execution_count": 6,
      "outputs": [
        {
          "output_type": "stream",
          "name": "stdout",
          "text": [
            "Nieprawidłowa wartość Age:  4435 \n",
            "Nieprawidłowa wartość Fare:  -90 \n",
            "Nieprawidłowa wartość Fare:  15,9a \n",
            "Nieprawidłowa wartość Age:  -3 \n",
            "Nieprawidłowa wartość Age:  -12 \n",
            "Nieprawidłowa wartość Age:  250 \n",
            "wiersze o błędnym Age do usunięcia:  224 508 523 667 \n",
            "wiersze o błędnym Fare do usunięcia:  246 490 \n"
          ]
        }
      ]
    },
    {
      "cell_type": "markdown",
      "source": [
        "Teraz oczyszczam zbior danych z wartości nieprawidłowych"
      ],
      "metadata": {
        "id": "hlDTBxRExGcM"
      }
    },
    {
      "cell_type": "code",
      "source": [
        "%%R\n",
        "dat2 <- data\n",
        "dat2 <- dat2[!(dat2$PassengerId > nrow(dat2)),] # nadmiarowe wiersze\n",
        "dat2 <- dat2[!duplicated(dat2$PassengerId), ] # usunięcie zduplikowanych wierszy na podstawie ID\n",
        "dat2$Sex <- as.character(dat2$Sex)\n",
        "dat2$Sex[startsWith(dat2$Sex,\"m\")] <- \"male\" # poprawienie błędnych wartości płci\n",
        "dat2$Sex[startsWith(dat2$Sex,\"f\")] <- \"female\" \n",
        "print(table(dat2$Sex))\n",
        "# dat2 <- dat2[dat2$Sex %in% c(\"male\", \"female\"),] # usunięcie wierszy z błędem w płci.\n",
        "# dat2 <- dat2[dat2$Embarked %in% c(\"S\", \"Q\", \"C\") | is.na(dat2$Embarked),] # usunięcie wierszy z błędem w embarked.\n",
        "dat2$Embarked <- as.character(dat2$Embarked)\n",
        "dat2$Embarked[startsWith(dat2$Embarked,\"C\")] <- \"C\" # poprawienie błędnych wartości embarked\n",
        "dat2$Embarked[startsWith(dat2$Embarked,\"Q\")] <- \"Q\"\n",
        "dat2$Embarked[startsWith(dat2$Embarked,\"S\")] <- \"S\"\n",
        "print(table(dat2$Embarked))\n",
        "dat2 <- dat2[!(dat2$PassengerId %in% wrong_age_ids),] # usunięcie wierszy z błednym wiekiem\n",
        "dat2 <- dat2[!(dat2$PassengerId %in% wrong_fare_ids),] # usunięcie wierszy z fare innym niż double i ujemne\n",
        "dat2 <- dat2[,names(dat2) != \"ship\"] # usunięcie kolumny ship - bo zawiera tylko jedną wartość - jest nadmiarowa\n",
        "glimpse(dat2)"
      ],
      "metadata": {
        "id": "e5vetyx_xLeJ",
        "colab": {
          "base_uri": "https://localhost:8080/"
        },
        "outputId": "5dd3cddb-0c12-45a3-fe4f-0fe968af5664"
      },
      "execution_count": 7,
      "outputs": [
        {
          "output_type": "stream",
          "name": "stdout",
          "text": [
            "\n",
            "female   male \n",
            "   312    575 \n",
            "\n",
            "  C   Q   S \n",
            "168  77 640 \n",
            "Rows: 881\n",
            "Columns: 12\n",
            "$ PassengerId <int> 1, 2, 3, 4, 5, 6, 7, 8, 9, 10, 11, 12, 13, 15, 16, 17, 18,…\n",
            "$ Survived    <int> 0, 1, 1, 1, 0, 0, 0, 0, 1, 1, 1, 1, 0, 0, 1, 0, 1, 0, 1, 0…\n",
            "$ Pclass      <int> 3, 1, 3, 1, 3, 3, 1, 3, 3, 2, 3, 1, 3, 3, 2, 3, 2, 3, 3, 2…\n",
            "$ Name        <chr> \"Braund, Mr. Owen Harris\", \"Cumings, Mrs. John Bradley (Fl…\n",
            "$ Sex         <chr> \"male\", \"female\", \"female\", \"female\", \"male\", \"male\", \"mal…\n",
            "$ Age         <chr> \"22\", \"38\", \"26\", \"35\", \"35\", NA, \"54\", \"2\", \"27\", \"14\", \"…\n",
            "$ SibSp       <int> 1, 1, 0, 1, 0, 0, 0, 3, 0, 1, 1, 0, 0, 0, 0, 4, 0, 1, 0, 0…\n",
            "$ Parch       <int> 0, 0, 0, 0, 0, 0, 0, 1, 2, 0, 1, 0, 0, 0, 0, 1, 0, 0, 0, 0…\n",
            "$ Ticket      <chr> \"A/5 21171\", \"PC 17599\", \"STON/O2. 3101282\", \"113803\", \"37…\n",
            "$ Fare        <chr> \"7,25\", \"71,2833\", \"7,925\", \"53,1\", \"8,05\", \"8,4583\", \"51,…\n",
            "$ Cabin       <chr> NA, \"C85\", NA, \"C123\", NA, NA, \"E46\", NA, NA, NA, \"G6\", \"C…\n",
            "$ Embarked    <chr> \"S\", \"C\", \"S\", \"S\", \"S\", \"Q\", \"S\", \"S\", \"S\", \"C\", \"S\", \"S\"…\n"
          ]
        }
      ]
    },
    {
      "cell_type": "markdown",
      "source": [
        "Następnie zastępuje brakujące wartości (NA) atrybutów Age oraz Embarked. Ponadto zmieniam format Age oraz Fare na double gdyż są to liczby zmiennoprzecinkowe. Atrybut Cabin posiada wiele brakujących wartości, ale nie da się ich zastąpić a usunięcie tych danych spowodowało by znaczną redukcje rozmiaru zbioru. Zamieniam również typy atrybutów Survived oraz Sex na factor,  gdyż może to być przydatne pod kontem analizy eksploatacyjnej.\n",
        "\n"
      ],
      "metadata": {
        "id": "PwMjC4SLnNql"
      }
    },
    {
      "cell_type": "code",
      "source": [
        "%%R\n",
        "dat3 <- dat2\n",
        "print(dat3[is.na(dat3$Embarked),])\n",
        "dat3$Embarked[which(is.na(dat3$Embarked))] <-\"S\" # zastąpienie Na przez \"s\", bo najczęściej występuje\n",
        "print(dat3[is.na(dat3$Embarked),])\n",
        "dat3$Age[which(is.na(dat3$Age))] <- mean(as.double(gsub(\",\",\".\",dat3$Age)), na.rm=TRUE) # zastąpienie Age przez mean z całego zbioru\n",
        "dat3$Age <- sapply(dat3$Age, as.double) # zmiana formatu na double\n",
        "dat3$Fare <- sapply(gsub(\",\",\".\",dat3$Fare), as.double) # zmiana formatu na double\n",
        "dat3$Survived <- as.factor(dat3$Survived)\n",
        "dat3$Sex <- as.factor(dat3$Sex)\n",
        "write.table(dat3, file = '/content/TitanicCleaned.tsv', sep='\\t', row.names = FALSE)\n",
        "glimpse(dat3)"
      ],
      "metadata": {
        "colab": {
          "base_uri": "https://localhost:8080/"
        },
        "id": "vIW6AkrknUt5",
        "outputId": "04bbe7a1-f9b6-45b5-dbef-13d6d72b757f"
      },
      "execution_count": 8,
      "outputs": [
        {
          "output_type": "stream",
          "name": "stdout",
          "text": [
            "    PassengerId Survived Pclass                                      Name\n",
            "62           62        1      1                       Icard, Miss. Amelie\n",
            "830         830        1      1 Stone, Mrs. George Nelson (Martha Evelyn)\n",
            "       Sex Age SibSp Parch Ticket Fare Cabin Embarked\n",
            "62  female  38     0     0 113572   80   B28     <NA>\n",
            "830 female  62     0     0 113572   80   B28     <NA>\n",
            " [1] PassengerId Survived    Pclass      Name        Sex         Age        \n",
            " [7] SibSp       Parch       Ticket      Fare        Cabin       Embarked   \n",
            "<0 rows> (or 0-length row.names)\n",
            "Rows: 881\n",
            "Columns: 12\n",
            "$ PassengerId <int> 1, 2, 3, 4, 5, 6, 7, 8, 9, 10, 11, 12, 13, 15, 16, 17, 18,…\n",
            "$ Survived    <fct> 0, 1, 1, 1, 0, 0, 0, 0, 1, 1, 1, 1, 0, 0, 1, 0, 1, 0, 1, 0…\n",
            "$ Pclass      <int> 3, 1, 3, 1, 3, 3, 1, 3, 3, 2, 3, 1, 3, 3, 2, 3, 2, 3, 3, 2…\n",
            "$ Name        <chr> \"Braund, Mr. Owen Harris\", \"Cumings, Mrs. John Bradley (Fl…\n",
            "$ Sex         <fct> male, female, female, female, male, male, male, male, fema…\n",
            "$ Age         <dbl> 22.00000, 38.00000, 26.00000, 35.00000, 35.00000, 29.64417…\n",
            "$ SibSp       <int> 1, 1, 0, 1, 0, 0, 0, 3, 0, 1, 1, 0, 0, 0, 0, 4, 0, 1, 0, 0…\n",
            "$ Parch       <int> 0, 0, 0, 0, 0, 0, 0, 1, 2, 0, 1, 0, 0, 0, 0, 1, 0, 0, 0, 0…\n",
            "$ Ticket      <chr> \"A/5 21171\", \"PC 17599\", \"STON/O2. 3101282\", \"113803\", \"37…\n",
            "$ Fare        <dbl> 7.2500, 71.2833, 7.9250, 53.1000, 8.0500, 8.4583, 51.8625,…\n",
            "$ Cabin       <chr> NA, \"C85\", NA, \"C123\", NA, NA, \"E46\", NA, NA, NA, \"G6\", \"C…\n",
            "$ Embarked    <chr> \"S\", \"C\", \"S\", \"S\", \"S\", \"Q\", \"S\", \"S\", \"S\", \"C\", \"S\", \"S\"…\n"
          ]
        }
      ]
    },
    {
      "cell_type": "markdown",
      "source": [
        "Analiza eksploracyjna \n",
        "\n",
        "Poniżej przeprowadzono analizę dla wartości atrubutu decyzyjnego Survived w zależności od wartości innych wybranych atrubutów. "
      ],
      "metadata": {
        "id": "emDoHUB2af6I"
      }
    },
    {
      "cell_type": "code",
      "source": [
        "%%R\n",
        "dat4 <- dat3\n",
        "columns <- c(\"Sex\", \"Embarked\", \"Pclass\", \"SibSp\", \"Parch\")\n",
        "print(columns)\n",
        "for(i in columns) {\n",
        "    t<-table(dat4[[i]] ,dat4$Survived)\n",
        "    for (j in 1:dim(t)[1]){\n",
        "      t[j,]<-t[j,]/sum(t[j,])*100\n",
        "    }\n",
        "    cat(\"Szansa na przetrwanie w zależności od wartości atrybutu\", i, \":\",sep=\" \")\n",
        "    print(t)\n",
        "}"
      ],
      "metadata": {
        "colab": {
          "base_uri": "https://localhost:8080/"
        },
        "id": "WZyXtYiPakrp",
        "outputId": "d24b7807-07d4-490c-b6a3-b8164525d301"
      },
      "execution_count": 11,
      "outputs": [
        {
          "output_type": "stream",
          "name": "stdout",
          "text": [
            " [1] \"PassengerId\" \"Survived\"    \"Pclass\"      \"Name\"        \"Sex\"        \n",
            " [6] \"Age\"         \"SibSp\"       \"Parch\"       \"Ticket\"      \"Fare\"       \n",
            "[11] \"Cabin\"       \"Embarked\"   \n",
            "[1] \"Sex\"      \"Embarked\" \"Pclass\"   \"SibSp\"    \"Parch\"   \n",
            "Szansa na przetrwanie w zależności od wartości atrybutu Sex :        \n",
            "                0        1\n",
            "  female 25.64103 74.35897\n",
            "  male   81.37083 18.62917\n",
            "Szansa na przetrwanie w zależności od wartości atrybutu Embarked :   \n",
            "           0        1\n",
            "  C 44.31138 55.68862\n",
            "  Q 60.52632 39.47368\n",
            "  S 66.30094 33.69906\n",
            "Szansa na przetrwanie w zależności od wartości atrybutu Pclass :   \n",
            "           0        1\n",
            "  1 37.26415 62.73585\n",
            "  2 52.45902 47.54098\n",
            "  3 75.72016 24.27984\n",
            "Szansa na przetrwanie w zależności od wartości atrybutu SibSp :   \n",
            "            0         1\n",
            "  0  65.61462  34.38538\n",
            "  1  46.11650  53.88350\n",
            "  2  51.85185  48.14815\n",
            "  3  75.00000  25.00000\n",
            "  4  83.33333  16.66667\n",
            "  5 100.00000   0.00000\n",
            "  8 100.00000   0.00000\n",
            "Szansa na przetrwanie w zależności od wartości atrybutu Parch :   \n",
            "            0         1\n",
            "  0  65.72280  34.27720\n",
            "  1  45.29915  54.70085\n",
            "  2  50.00000  50.00000\n",
            "  3  40.00000  60.00000\n",
            "  4 100.00000   0.00000\n",
            "  5  75.00000  25.00000\n"
          ]
        }
      ]
    }
  ],
  "metadata": {
    "colab": {
      "name": "titanic_clean.ipynb",
      "provenance": [],
      "collapsed_sections": []
    },
    "kernelspec": {
      "display_name": "Python 3",
      "name": "python3"
    },
    "language_info": {
      "name": "python"
    }
  },
  "nbformat": 4,
  "nbformat_minor": 0
}
